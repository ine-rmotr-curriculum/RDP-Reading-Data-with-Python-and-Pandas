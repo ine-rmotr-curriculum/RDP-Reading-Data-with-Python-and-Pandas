{
 "cells": [
  {
   "cell_type": "code",
   "execution_count": 2,
   "metadata": {},
   "outputs": [],
   "source": [
    "import pandas as pd"
   ]
  },
  {
   "cell_type": "code",
   "execution_count": 6,
   "metadata": {},
   "outputs": [
    {
     "data": {
      "text/html": [
       "<div>\n",
       "<style scoped>\n",
       "    .dataframe tbody tr th:only-of-type {\n",
       "        vertical-align: middle;\n",
       "    }\n",
       "\n",
       "    .dataframe tbody tr th {\n",
       "        vertical-align: top;\n",
       "    }\n",
       "\n",
       "    .dataframe thead th {\n",
       "        text-align: right;\n",
       "    }\n",
       "</style>\n",
       "<table border=\"1\" class=\"dataframe\">\n",
       "  <thead>\n",
       "    <tr style=\"text-align: right;\">\n",
       "      <th></th>\n",
       "      <th>title</th>\n",
       "      <th>price</th>\n",
       "      <th>content_rating_img</th>\n",
       "      <th>release_date</th>\n",
       "      <th>provider</th>\n",
       "      <th>genre</th>\n",
       "      <th>image</th>\n",
       "    </tr>\n",
       "  </thead>\n",
       "  <tbody>\n",
       "    <tr>\n",
       "      <th>0</th>\n",
       "      <td>Call of Duty®: WWII + Destiny 2 - Lote</td>\n",
       "      <td>129,99 €</td>\n",
       "      <td>https://cdn-a.sonyentertainmentnetwork.com/grc...</td>\n",
       "      <td>Dic 21 2018</td>\n",
       "      <td>Activision Blizzard Int'l BV</td>\n",
       "      <td>Shooter</td>\n",
       "      <td>https://store.playstation.com/store/api/chihir...</td>\n",
       "    </tr>\n",
       "    <tr>\n",
       "      <th>1</th>\n",
       "      <td>God of War® Digital Deluxe Edition</td>\n",
       "      <td>69,99 €</td>\n",
       "      <td>https://cdn-a.sonyentertainmentnetwork.com/grc...</td>\n",
       "      <td>Abr 20 2018</td>\n",
       "      <td>Sony Interactive Entertainment Europe</td>\n",
       "      <td>Acción</td>\n",
       "      <td>https://store.playstation.com/store/api/chihir...</td>\n",
       "    </tr>\n",
       "    <tr>\n",
       "      <th>2</th>\n",
       "      <td>Far Cry 5</td>\n",
       "      <td>69,99 €</td>\n",
       "      <td>https://cdn-a.sonyentertainmentnetwork.com/grc...</td>\n",
       "      <td>Mar 27 2018</td>\n",
       "      <td>UBISOFT ENTERTAINMENT SA</td>\n",
       "      <td>Aventura</td>\n",
       "      <td>https://store.playstation.com/store/api/chihir...</td>\n",
       "    </tr>\n",
       "    <tr>\n",
       "      <th>3</th>\n",
       "      <td>Far Cry 5 Edición Deluxe</td>\n",
       "      <td>79,99 €</td>\n",
       "      <td>https://cdn-a.sonyentertainmentnetwork.com/grc...</td>\n",
       "      <td>Mar 27 2018</td>\n",
       "      <td>UBISOFT ENTERTAINMENT SA</td>\n",
       "      <td>Aventura</td>\n",
       "      <td>https://store.playstation.com/store/api/chihir...</td>\n",
       "    </tr>\n",
       "    <tr>\n",
       "      <th>4</th>\n",
       "      <td>Far Cry 5 Edición Oro</td>\n",
       "      <td>89,99 €</td>\n",
       "      <td>https://cdn-a.sonyentertainmentnetwork.com/grc...</td>\n",
       "      <td>Mar 27 2018</td>\n",
       "      <td>UBISOFT ENTERTAINMENT SA</td>\n",
       "      <td>Aventura</td>\n",
       "      <td>https://store.playstation.com/store/api/chihir...</td>\n",
       "    </tr>\n",
       "  </tbody>\n",
       "</table>\n",
       "</div>"
      ],
      "text/plain": [
       "                                    title     price  \\\n",
       "0  Call of Duty®: WWII + Destiny 2 - Lote  129,99 €   \n",
       "1      God of War® Digital Deluxe Edition   69,99 €   \n",
       "2                               Far Cry 5   69,99 €   \n",
       "3                Far Cry 5 Edición Deluxe   79,99 €   \n",
       "4                   Far Cry 5 Edición Oro   89,99 €   \n",
       "\n",
       "                                  content_rating_img release_date  \\\n",
       "0  https://cdn-a.sonyentertainmentnetwork.com/grc...  Dic 21 2018   \n",
       "1  https://cdn-a.sonyentertainmentnetwork.com/grc...  Abr 20 2018   \n",
       "2  https://cdn-a.sonyentertainmentnetwork.com/grc...  Mar 27 2018   \n",
       "3  https://cdn-a.sonyentertainmentnetwork.com/grc...  Mar 27 2018   \n",
       "4  https://cdn-a.sonyentertainmentnetwork.com/grc...  Mar 27 2018   \n",
       "\n",
       "                                provider     genre  \\\n",
       "0           Activision Blizzard Int'l BV   Shooter   \n",
       "1  Sony Interactive Entertainment Europe    Acción   \n",
       "2               UBISOFT ENTERTAINMENT SA  Aventura   \n",
       "3               UBISOFT ENTERTAINMENT SA  Aventura   \n",
       "4               UBISOFT ENTERTAINMENT SA  Aventura   \n",
       "\n",
       "                                               image  \n",
       "0  https://store.playstation.com/store/api/chihir...  \n",
       "1  https://store.playstation.com/store/api/chihir...  \n",
       "2  https://store.playstation.com/store/api/chihir...  \n",
       "3  https://store.playstation.com/store/api/chihir...  \n",
       "4  https://store.playstation.com/store/api/chihir...  "
      ]
     },
     "execution_count": 6,
     "metadata": {},
     "output_type": "execute_result"
    }
   ],
   "source": [
    "games = pd.read_json('C:\\\\Users\\\\mojta\\\\personal_projects\\\\RDP-Reading-Data-with-Python-and-Pandas\\\\unit-1-reading-data-with-python-and-pandas\\\\lesson-8-reading-json-files\\\\files\\\\games.json')\n",
    "games.head()"
   ]
  },
  {
   "cell_type": "code",
   "execution_count": 7,
   "metadata": {},
   "outputs": [
    {
     "data": {
      "text/html": [
       "<div>\n",
       "<style scoped>\n",
       "    .dataframe tbody tr th:only-of-type {\n",
       "        vertical-align: middle;\n",
       "    }\n",
       "\n",
       "    .dataframe tbody tr th {\n",
       "        vertical-align: top;\n",
       "    }\n",
       "\n",
       "    .dataframe thead th {\n",
       "        text-align: right;\n",
       "    }\n",
       "</style>\n",
       "<table border=\"1\" class=\"dataframe\">\n",
       "  <thead>\n",
       "    <tr style=\"text-align: right;\">\n",
       "      <th></th>\n",
       "      <th>info</th>\n",
       "    </tr>\n",
       "  </thead>\n",
       "  <tbody>\n",
       "    <tr>\n",
       "      <th>0</th>\n",
       "      <td>{'id': 1, 'name': 'Leanne Graham', 'username':...</td>\n",
       "    </tr>\n",
       "    <tr>\n",
       "      <th>1</th>\n",
       "      <td>{'id': 2, 'name': 'Ervin Howell', 'username': ...</td>\n",
       "    </tr>\n",
       "    <tr>\n",
       "      <th>2</th>\n",
       "      <td>{'id': 3, 'name': 'Clementine Bauch', 'usernam...</td>\n",
       "    </tr>\n",
       "    <tr>\n",
       "      <th>3</th>\n",
       "      <td>{'id': 4, 'name': 'Patricia Lebsack', 'usernam...</td>\n",
       "    </tr>\n",
       "    <tr>\n",
       "      <th>4</th>\n",
       "      <td>{'id': 5, 'name': 'Chelsey Dietrich', 'usernam...</td>\n",
       "    </tr>\n",
       "  </tbody>\n",
       "</table>\n",
       "</div>"
      ],
      "text/plain": [
       "                                                info\n",
       "0  {'id': 1, 'name': 'Leanne Graham', 'username':...\n",
       "1  {'id': 2, 'name': 'Ervin Howell', 'username': ...\n",
       "2  {'id': 3, 'name': 'Clementine Bauch', 'usernam...\n",
       "3  {'id': 4, 'name': 'Patricia Lebsack', 'usernam...\n",
       "4  {'id': 5, 'name': 'Chelsey Dietrich', 'usernam..."
      ]
     },
     "execution_count": 7,
     "metadata": {},
     "output_type": "execute_result"
    }
   ],
   "source": [
    "\n",
    "df = pd.read_json('C:\\\\Users\\\\mojta\\\\personal_projects\\\\RDP-Reading-Data-with-Python-and-Pandas\\\\unit-1-reading-data-with-python-and-pandas\\\\lesson-8-reading-json-files\\\\files\\\\users.json')\n",
    "df.head()"
   ]
  },
  {
   "cell_type": "code",
   "execution_count": 8,
   "metadata": {},
   "outputs": [],
   "source": [
    "import json\n",
    "\n",
    "with open('C:\\\\Users\\\\mojta\\\\personal_projects\\\\RDP-Reading-Data-with-Python-and-Pandas\\\\unit-1-reading-data-with-python-and-pandas\\\\lesson-8-reading-json-files\\\\files\\\\users.json') as f:\n",
    "    json_dict = json.load(f)"
   ]
  },
  {
   "cell_type": "code",
   "execution_count": 11,
   "metadata": {},
   "outputs": [
    {
     "data": {
      "text/plain": [
       "dict_keys(['info'])"
      ]
     },
     "execution_count": 11,
     "metadata": {},
     "output_type": "execute_result"
    }
   ],
   "source": [
    "json_dict.keys()"
   ]
  },
  {
   "cell_type": "code",
   "execution_count": 12,
   "metadata": {},
   "outputs": [
    {
     "data": {
      "text/plain": [
       "dict_values([[{'id': 1, 'name': 'Leanne Graham', 'username': 'Bret', 'email': 'Sincere@april.biz', 'address': [{'street': 'Kulas Light', 'suite': 'Apt. 556', 'city': 'Gwenborough', 'zipcode': '92998-3874', 'geo': {'lat': '-37.3159', 'lng': '81.1496'}}], 'phone': '1-770-736-8031 x56442', 'website': 'hildegard.org', 'company': {'name': 'Romaguera-Crona', 'catchPhrase': 'Multi-layered client-server neural-net', 'bs': 'harness real-time e-markets'}}, {'id': 2, 'name': 'Ervin Howell', 'username': 'Antonette', 'email': 'Shanna@melissa.tv', 'address': [{'street': 'Victor Plains', 'suite': 'Suite 879', 'city': 'Wisokyburgh', 'zipcode': '90566-7771', 'geo': {'lat': '-43.9509', 'lng': '-34.4618'}}], 'phone': '010-692-6593 x09125', 'website': 'anastasia.net', 'company': {'name': 'Deckow-Crist', 'catchPhrase': 'Proactive didactic contingency', 'bs': 'synergize scalable supply-chains'}}, {'id': 3, 'name': 'Clementine Bauch', 'username': 'Samantha', 'email': 'Nathan@yesenia.net', 'address': [{'street': 'Douglas Extension', 'suite': 'Suite 847', 'city': 'McKenziehaven', 'zipcode': '59590-4157', 'geo': {'lat': '-68.6102', 'lng': '-47.0653'}}], 'phone': '1-463-123-4447', 'website': 'ramiro.info', 'company': {'name': 'Romaguera-Jacobson', 'catchPhrase': 'Face to face bifurcated interface', 'bs': 'e-enable strategic applications'}}, {'id': 4, 'name': 'Patricia Lebsack', 'username': 'Karianne', 'email': 'Julianne.OConner@kory.org', 'address': [{'street': 'Hoeger Mall', 'suite': 'Apt. 692', 'city': 'South Elvis', 'zipcode': '53919-4257', 'geo': {'lat': '29.4572', 'lng': '-164.2990'}}], 'phone': '493-170-9623 x156', 'website': 'kale.biz', 'company': {'name': 'Robel-Corkery', 'catchPhrase': 'Multi-tiered zero tolerance productivity', 'bs': 'transition cutting-edge web services'}}, {'id': 5, 'name': 'Chelsey Dietrich', 'username': 'Kamren', 'email': 'Lucio_Hettinger@annie.ca', 'address': [{'street': 'Skiles Walks', 'suite': 'Suite 351', 'city': 'Roscoeview', 'zipcode': '33263', 'geo': {'lat': '-31.8129', 'lng': '62.5342'}}], 'phone': '(254)954-1289', 'website': 'demarco.info', 'company': {'name': 'Keebler LLC', 'catchPhrase': 'User-centric fault-tolerant solution', 'bs': 'revolutionize end-to-end systems'}}, {'id': 6, 'name': 'Mrs. Dennis Schulist', 'username': 'Leopoldo_Corkery', 'email': 'Karley_Dach@jasper.info', 'address': [{'street': 'Norberto Crossing', 'suite': 'Apt. 950', 'city': 'South Christy', 'zipcode': '23505-1337', 'geo': {'lat': '-71.4197', 'lng': '71.7478'}}], 'phone': '1-477-935-8478 x6430', 'website': 'ola.org', 'company': {'name': 'Considine-Lockman', 'catchPhrase': 'Synchronised bottom-line interface', 'bs': 'e-enable innovative applications'}}, {'id': 7, 'name': 'Kurtis Weissnat', 'username': 'Elwyn.Skiles', 'email': 'Telly.Hoeger@billy.biz', 'address': [{'street': 'Rex Trail', 'suite': 'Suite 280', 'city': 'Howemouth', 'zipcode': '58804-1099', 'geo': {'lat': '24.8918', 'lng': '21.8984'}}], 'phone': '210.067.6132', 'website': 'elvis.io', 'company': {'name': 'Johns Group', 'catchPhrase': 'Configurable multimedia task-force', 'bs': 'generate enterprise e-tailers'}}, {'id': 8, 'name': 'Nicholas Runolfsdottir V', 'username': 'Maxime_Nienow', 'email': 'Sherwood@rosamond.me', 'address': [{'street': 'Ellsworth Summit', 'suite': 'Suite 729', 'city': 'Aliyaview', 'zipcode': '45169', 'geo': {'lat': '-14.3990', 'lng': '-120.7677'}}], 'phone': '586.493.6943 x140', 'website': 'jacynthe.com', 'company': {'name': 'Abernathy Group', 'catchPhrase': 'Implemented secondary concept', 'bs': 'e-enable extensible e-tailers'}}, {'id': 9, 'name': 'Glenna Reichert', 'username': 'Delphine', 'email': 'Chaim_McDermott@dana.io', 'address': [{'street': 'Dayna Park', 'suite': 'Suite 449', 'city': 'Bartholomebury', 'zipcode': '76495-3109', 'geo': {'lat': '24.6463', 'lng': '-168.8889'}}], 'phone': '(775)976-6794 x41206', 'website': 'conrad.com', 'company': {'name': 'Yost and Sons', 'catchPhrase': 'Switchable contextually-based project', 'bs': 'aggregate real-time technologies'}}, {'id': 10, 'name': 'Clementina DuBuque', 'username': 'Moriah.Stanton', 'email': 'Rey.Padberg@karina.biz', 'address': [{'street': 'Kattie Turnpike', 'suite': 'Suite 198', 'city': 'Lebsackbury', 'zipcode': '31428-2261', 'geo': {'lat': '-38.2386', 'lng': '57.2232'}}], 'phone': '024-648-3804', 'website': 'ambrose.net', 'company': {'name': 'Hoeger LLC', 'catchPhrase': 'Centralized empowering task-force', 'bs': 'target end-to-end models'}}]])"
      ]
     },
     "execution_count": 12,
     "metadata": {},
     "output_type": "execute_result"
    }
   ],
   "source": [
    "json_dict.values()"
   ]
  },
  {
   "cell_type": "code",
   "execution_count": 14,
   "metadata": {},
   "outputs": [],
   "source": [
    "\n",
    "df = pd.DataFrame.from_dict(json_dict['info'])"
   ]
  },
  {
   "cell_type": "code",
   "execution_count": 15,
   "metadata": {},
   "outputs": [
    {
     "data": {
      "text/html": [
       "<div>\n",
       "<style scoped>\n",
       "    .dataframe tbody tr th:only-of-type {\n",
       "        vertical-align: middle;\n",
       "    }\n",
       "\n",
       "    .dataframe tbody tr th {\n",
       "        vertical-align: top;\n",
       "    }\n",
       "\n",
       "    .dataframe thead th {\n",
       "        text-align: right;\n",
       "    }\n",
       "</style>\n",
       "<table border=\"1\" class=\"dataframe\">\n",
       "  <thead>\n",
       "    <tr style=\"text-align: right;\">\n",
       "      <th></th>\n",
       "      <th>id</th>\n",
       "      <th>name</th>\n",
       "      <th>username</th>\n",
       "      <th>email</th>\n",
       "      <th>address</th>\n",
       "      <th>phone</th>\n",
       "      <th>website</th>\n",
       "      <th>company</th>\n",
       "    </tr>\n",
       "  </thead>\n",
       "  <tbody>\n",
       "    <tr>\n",
       "      <th>0</th>\n",
       "      <td>1</td>\n",
       "      <td>Leanne Graham</td>\n",
       "      <td>Bret</td>\n",
       "      <td>Sincere@april.biz</td>\n",
       "      <td>[{'street': 'Kulas Light', 'suite': 'Apt. 556'...</td>\n",
       "      <td>1-770-736-8031 x56442</td>\n",
       "      <td>hildegard.org</td>\n",
       "      <td>{'name': 'Romaguera-Crona', 'catchPhrase': 'Mu...</td>\n",
       "    </tr>\n",
       "    <tr>\n",
       "      <th>1</th>\n",
       "      <td>2</td>\n",
       "      <td>Ervin Howell</td>\n",
       "      <td>Antonette</td>\n",
       "      <td>Shanna@melissa.tv</td>\n",
       "      <td>[{'street': 'Victor Plains', 'suite': 'Suite 8...</td>\n",
       "      <td>010-692-6593 x09125</td>\n",
       "      <td>anastasia.net</td>\n",
       "      <td>{'name': 'Deckow-Crist', 'catchPhrase': 'Proac...</td>\n",
       "    </tr>\n",
       "    <tr>\n",
       "      <th>2</th>\n",
       "      <td>3</td>\n",
       "      <td>Clementine Bauch</td>\n",
       "      <td>Samantha</td>\n",
       "      <td>Nathan@yesenia.net</td>\n",
       "      <td>[{'street': 'Douglas Extension', 'suite': 'Sui...</td>\n",
       "      <td>1-463-123-4447</td>\n",
       "      <td>ramiro.info</td>\n",
       "      <td>{'name': 'Romaguera-Jacobson', 'catchPhrase': ...</td>\n",
       "    </tr>\n",
       "    <tr>\n",
       "      <th>3</th>\n",
       "      <td>4</td>\n",
       "      <td>Patricia Lebsack</td>\n",
       "      <td>Karianne</td>\n",
       "      <td>Julianne.OConner@kory.org</td>\n",
       "      <td>[{'street': 'Hoeger Mall', 'suite': 'Apt. 692'...</td>\n",
       "      <td>493-170-9623 x156</td>\n",
       "      <td>kale.biz</td>\n",
       "      <td>{'name': 'Robel-Corkery', 'catchPhrase': 'Mult...</td>\n",
       "    </tr>\n",
       "    <tr>\n",
       "      <th>4</th>\n",
       "      <td>5</td>\n",
       "      <td>Chelsey Dietrich</td>\n",
       "      <td>Kamren</td>\n",
       "      <td>Lucio_Hettinger@annie.ca</td>\n",
       "      <td>[{'street': 'Skiles Walks', 'suite': 'Suite 35...</td>\n",
       "      <td>(254)954-1289</td>\n",
       "      <td>demarco.info</td>\n",
       "      <td>{'name': 'Keebler LLC', 'catchPhrase': 'User-c...</td>\n",
       "    </tr>\n",
       "  </tbody>\n",
       "</table>\n",
       "</div>"
      ],
      "text/plain": [
       "   id              name   username                      email  \\\n",
       "0   1     Leanne Graham       Bret          Sincere@april.biz   \n",
       "1   2      Ervin Howell  Antonette          Shanna@melissa.tv   \n",
       "2   3  Clementine Bauch   Samantha         Nathan@yesenia.net   \n",
       "3   4  Patricia Lebsack   Karianne  Julianne.OConner@kory.org   \n",
       "4   5  Chelsey Dietrich     Kamren   Lucio_Hettinger@annie.ca   \n",
       "\n",
       "                                             address                  phone  \\\n",
       "0  [{'street': 'Kulas Light', 'suite': 'Apt. 556'...  1-770-736-8031 x56442   \n",
       "1  [{'street': 'Victor Plains', 'suite': 'Suite 8...    010-692-6593 x09125   \n",
       "2  [{'street': 'Douglas Extension', 'suite': 'Sui...         1-463-123-4447   \n",
       "3  [{'street': 'Hoeger Mall', 'suite': 'Apt. 692'...      493-170-9623 x156   \n",
       "4  [{'street': 'Skiles Walks', 'suite': 'Suite 35...          (254)954-1289   \n",
       "\n",
       "         website                                            company  \n",
       "0  hildegard.org  {'name': 'Romaguera-Crona', 'catchPhrase': 'Mu...  \n",
       "1  anastasia.net  {'name': 'Deckow-Crist', 'catchPhrase': 'Proac...  \n",
       "2    ramiro.info  {'name': 'Romaguera-Jacobson', 'catchPhrase': ...  \n",
       "3       kale.biz  {'name': 'Robel-Corkery', 'catchPhrase': 'Mult...  \n",
       "4   demarco.info  {'name': 'Keebler LLC', 'catchPhrase': 'User-c...  "
      ]
     },
     "execution_count": 15,
     "metadata": {},
     "output_type": "execute_result"
    }
   ],
   "source": [
    "df.head()"
   ]
  },
  {
   "cell_type": "code",
   "execution_count": 19,
   "metadata": {},
   "outputs": [],
   "source": [
    "#from pandas.io.json import json_normalize  -> pandas.io.json.json_normalize is deprecated. we need to directly import it from pandas\n",
    "from pandas import json_normalize"
   ]
  },
  {
   "cell_type": "code",
   "execution_count": null,
   "metadata": {},
   "outputs": [],
   "source": []
  }
 ],
 "metadata": {
  "kernelspec": {
   "display_name": "Python 3",
   "language": "python",
   "name": "python3"
  },
  "language_info": {
   "codemirror_mode": {
    "name": "ipython",
    "version": 3
   },
   "file_extension": ".py",
   "mimetype": "text/x-python",
   "name": "python",
   "nbconvert_exporter": "python",
   "pygments_lexer": "ipython3",
   "version": "3.11.4"
  },
  "orig_nbformat": 4
 },
 "nbformat": 4,
 "nbformat_minor": 2
}
